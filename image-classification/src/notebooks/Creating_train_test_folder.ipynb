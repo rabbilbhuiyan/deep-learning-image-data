{
 "cells": [
  {
   "cell_type": "markdown",
   "metadata": {},
   "source": [
    "### Creating train and test folder out of full dataset which is consisted of guns, rifles and others"
   ]
  },
  {
   "cell_type": "code",
   "execution_count": 1,
   "metadata": {},
   "outputs": [],
   "source": [
    "import os\n",
    "import numpy as np\n",
    "import shutil"
   ]
  },
  {
   "cell_type": "markdown",
   "metadata": {},
   "source": [
    "### Gun data"
   ]
  },
  {
   "cell_type": "code",
   "execution_count": 1,
   "metadata": {},
   "outputs": [],
   "source": [
    "# Creating Train / Test folders\n",
    "root_dir = 'C:/Users/Rabbil/Documents/New_folder_weapons_dataset'\n",
    "gunCls = '/handgun'\n",
    "rifleCls = '/rifle'\n",
    "otherCls = '/other'\n",
    "\n",
    "os.makedirs(root_dir +'/train_data' + gunCls)\n",
    "os.makedirs(root_dir +'/train_data' + rifleCls)\n",
    "os.makedirs(root_dir +'/train_data' + otherCls)\n",
    "#os.makedirs(root_dir +'/val' + gunCls)\n",
    "#os.makedirs(root_dir +'/val' + rifleCls)\n",
    "#os.makedirs(root_dir +'/val' + otherCls)\n",
    "os.makedirs(root_dir +'/test_data' + gunCls)\n",
    "os.makedirs(root_dir +'/test_data' + rifleCls)\n",
    "os.makedirs(root_dir +'/test_data' + otherCls)\n",
    "\n",
    "\n",
    "# Creating partitions of the data after shuffeling\n",
    "currentCls = gunCls\n",
    "src = 'C:/Users/Rabbil/Documents/New_folder_weapons_dataset'+currentCls # Folder to copy images from\n",
    "\n",
    "allFileNames = os.listdir(src)\n",
    "np.random.shuffle(allFileNames)\n",
    "train_FileNames, test_FileNames = np.split(np.array(allFileNames),[int(len(allFileNames)*0.8)])\n",
    "\n",
    "train_FileNames = [src+'/'+ name for name in train_FileNames.tolist()]\n",
    "#val_FileNames = [src+'/' + name for name in val_FileNames.tolist()]\n",
    "test_FileNames = [src+'/' + name for name in test_FileNames.tolist()]\n",
    "\n",
    "print('Total images: ', len(allFileNames))\n",
    "print('Training: ', len(train_FileNames))\n",
    "#print('Validation: ', len(val_FileNames))\n",
    "print('Testing: ', len(test_FileNames))\n",
    "\n",
    "\n",
    "# Copy-pasting images\n",
    "for name in train_FileNames:\n",
    "    shutil.copy(name, \"C:/Users/Rabbil/Documents/New_folder_weapons_dataset/train_data\"+currentCls)\n",
    "\n",
    "#for name in val_FileNames:\n",
    "    #shutil.copy(name, \"C:/Users/Rabbil/Documents/New_folder_weapons_dataset/val\"+currentCls)\n",
    "\n",
    "for name in test_FileNames:\n",
    "    shutil.copy(name, \"C:/Users/Rabbil/Documents/New_folder_weapons_dataset/test_data\"+currentCls)\n"
   ]
  },
  {
   "cell_type": "markdown",
   "metadata": {},
   "source": [
    "### Rifles data"
   ]
  },
  {
   "cell_type": "code",
   "execution_count": 8,
   "metadata": {},
   "outputs": [
    {
     "name": "stdout",
     "output_type": "stream",
     "text": [
      "Total images:  14244\n",
      "Training:  11395\n",
      "Testing:  2849\n"
     ]
    }
   ],
   "source": [
    "# Creating partitions of the data after shuffeling\n",
    "currentCls = rifleCls\n",
    "src = 'C:/Users/Rabbil/Documents/New_folder_weapons_dataset'+currentCls # Folder to copy images from\n",
    "\n",
    "allFileNames = os.listdir(src)\n",
    "np.random.shuffle(allFileNames)\n",
    "train_FileNames, test_FileNames = np.split(np.array(allFileNames),[int(len(allFileNames)*0.8)])\n",
    "\n",
    "train_FileNames = [src+'/'+ name for name in train_FileNames.tolist()]\n",
    "#val_FileNames = [src+'/' + name for name in val_FileNames.tolist()]\n",
    "test_FileNames = [src+'/' + name for name in test_FileNames.tolist()]\n",
    "\n",
    "print('Total images: ', len(allFileNames))\n",
    "print('Training: ', len(train_FileNames))\n",
    "#print('Validation: ', len(val_FileNames))\n",
    "print('Testing: ', len(test_FileNames))\n",
    "\n",
    "\n",
    "# Copy-pasting images\n",
    "for name in train_FileNames:\n",
    "    shutil.copy(name, \"C:/Users/Rabbil/Documents/New_folder_weapons_dataset/train_data\"+currentCls)\n",
    "\n",
    "#for name in val_FileNames:\n",
    "    #shutil.copy(name, \"C:/Users/Rabbil/Documents/New_folder_weapons_dataset/val\"+currentCls)\n",
    "\n",
    "for name in test_FileNames:\n",
    "    shutil.copy(name, \"C:/Users/Rabbil/Documents/New_folder_weapons_dataset/test_data\"+currentCls)\n"
   ]
  },
  {
   "cell_type": "markdown",
   "metadata": {},
   "source": [
    "### Other images"
   ]
  },
  {
   "cell_type": "code",
   "execution_count": 10,
   "metadata": {
    "lines_to_next_cell": 0
   },
   "outputs": [
    {
     "name": "stdout",
     "output_type": "stream",
     "text": [
      "Total images:  3194\n",
      "Training:  2555\n",
      "Testing:  639\n"
     ]
    }
   ],
   "source": [
    "# Creating partitions of the data after shuffeling\n",
    "currentCls = otherCls\n",
    "src = 'C:/Users/Rabbil/Documents/New_folder_weapons_dataset'+currentCls # Folder to copy images from\n",
    "\n",
    "allFileNames = os.listdir(src)\n",
    "np.random.shuffle(allFileNames)\n",
    "train_FileNames, test_FileNames = np.split(np.array(allFileNames),[int(len(allFileNames)*0.8)])\n",
    "\n",
    "train_FileNames = [src+'/'+ name for name in train_FileNames.tolist()]\n",
    "#val_FileNames = [src+'/' + name for name in val_FileNames.tolist()]\n",
    "test_FileNames = [src+'/' + name for name in test_FileNames.tolist()]\n",
    "\n",
    "print('Total images: ', len(allFileNames))\n",
    "print('Training: ', len(train_FileNames))\n",
    "#print('Validation: ', len(val_FileNames))\n",
    "print('Testing: ', len(test_FileNames))\n",
    "\n",
    "\n",
    "# Copy-pasting images\n",
    "for name in train_FileNames:\n",
    "    shutil.copy(name, \"C:/Users/Rabbil/Documents/New_folder_weapons_dataset/train_data\"+currentCls)\n",
    "\n",
    "#for name in val_FileNames:\n",
    "    #shutil.copy(name, \"C:/Users/Rabbil/Documents/New_folder_weapons_dataset/val\"+currentCls)\n",
    "\n",
    "for name in test_FileNames:\n",
    "    shutil.copy(name, \"C:/Users/Rabbil/Documents/New_folder_weapons_dataset/test_data\"+currentCls)\n"
   ]
  },
  {
   "cell_type": "code",
   "execution_count": null,
   "metadata": {},
   "outputs": [],
   "source": []
  }
 ],
 "metadata": {
  "jupytext": {
   "formats": "ipynb,../scripts/preparation//py"
  },
  "kernelspec": {
   "display_name": "Python 3 (ipykernel)",
   "language": "python",
   "name": "python3"
  },
  "language_info": {
   "codemirror_mode": {
    "name": "ipython",
    "version": 3
   },
   "file_extension": ".py",
   "mimetype": "text/x-python",
   "name": "python",
   "nbconvert_exporter": "python",
   "pygments_lexer": "ipython3",
   "version": "3.8.3"
  }
 },
 "nbformat": 4,
 "nbformat_minor": 4
}
